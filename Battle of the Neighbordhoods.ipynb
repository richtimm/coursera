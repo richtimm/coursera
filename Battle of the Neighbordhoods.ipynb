{
    "cells": [
        {
            "cell_type": "markdown",
            "metadata": {
                "collapsed": true
            },
            "source": "# Battle of the neighborhoods\n#### 1. A description of the problem and a discussion of the background. (15 marks)\n"
        },
        {
            "cell_type": "markdown",
            "metadata": {},
            "source": "The problem is to provide information to someone to help with a decision of where to move within the US. The scope will be the top 100 cities in the US by population. If the person who is moving has an idea of a city they like, for example, a city like Minneapolis, and wants to know other cities like that one, a cluster analysis could help identify the other similar cities within the same cluster as Minneapolis. Conversely, if the person moving knows they do NOT like Minneapolis, they could avoid moving to cities within the same cluster as it."
        },
        {
            "cell_type": "markdown",
            "metadata": {},
            "source": "#### 2. A description of the data and how it will be used to solve the problem. (15 marks)"
        },
        {
            "cell_type": "markdown",
            "metadata": {},
            "source": "I will use data from wikipedia to provide list of the top 100 cities, including location (latitude and longitude), population, land area, population density, and growth rate. This data will have to be manipulated and cleaned up, extra characters removed, and converted to numeric data. I will also plot the city locations on a US map.\n\nI will add to this data, additional data from Foursquare about the venues in each city. The venue categories will be the main point of comparison, specifically, the percent breakdown of each type of venue category. To do this, I'll have to convert the categories into dummies.\n\nFrom there, I will normalize all the columns of the dataframe (population, area, growth, density, venue categories) for preparation into cluster analysis. I will run a few different cluster models and evaluate performance of these. Finally, I will provide the cluster results of similar cities, as well as an updated color-coded map."
        },
        {
            "cell_type": "markdown",
            "metadata": {},
            "source": "https://en.wikipedia.org/wiki/List_of_United_States_cities_by_population"
        },
        {
            "cell_type": "code",
            "execution_count": 1,
            "metadata": {},
            "outputs": [
                {
                    "name": "stdout",
                    "output_type": "stream",
                    "text": "Solving environment: done\n\n## Package Plan ##\n\n  environment location: /opt/conda/envs/Python36\n\n  added / updated specs: \n    - folium=0.5.0\n\n\nThe following packages will be downloaded:\n\n    package                    |            build\n    ---------------------------|-----------------\n    branca-0.4.1               |             py_0          26 KB  conda-forge\n    openssl-1.1.1g             |       h516909a_0         2.1 MB  conda-forge\n    certifi-2020.4.5.1         |   py36h9f0ad1d_0         151 KB  conda-forge\n    vincent-0.4.4              |             py_1          28 KB  conda-forge\n    folium-0.5.0               |             py_0          45 KB  conda-forge\n    ca-certificates-2020.4.5.1 |       hecc5488_0         146 KB  conda-forge\n    altair-4.1.0               |             py_1         614 KB  conda-forge\n    python_abi-3.6             |          1_cp36m           4 KB  conda-forge\n    ------------------------------------------------------------\n                                           Total:         3.1 MB\n\nThe following NEW packages will be INSTALLED:\n\n    altair:          4.1.0-py_1        conda-forge\n    branca:          0.4.1-py_0        conda-forge\n    folium:          0.5.0-py_0        conda-forge\n    python_abi:      3.6-1_cp36m       conda-forge\n    vincent:         0.4.4-py_1        conda-forge\n\nThe following packages will be UPDATED:\n\n    ca-certificates: 2020.1.1-0                    --> 2020.4.5.1-hecc5488_0     conda-forge\n    certifi:         2020.4.5.1-py36_0             --> 2020.4.5.1-py36h9f0ad1d_0 conda-forge\n    openssl:         1.1.1g-h7b6447c_0             --> 1.1.1g-h516909a_0         conda-forge\n\n\nDownloading and Extracting Packages\nbranca-0.4.1         | 26 KB     | ##################################### | 100% \nopenssl-1.1.1g       | 2.1 MB    | ##################################### | 100% \ncertifi-2020.4.5.1   | 151 KB    | ##################################### | 100% \nvincent-0.4.4        | 28 KB     | ##################################### | 100% \nfolium-0.5.0         | 45 KB     | ##################################### | 100% \nca-certificates-2020 | 146 KB    | ##################################### | 100% \naltair-4.1.0         | 614 KB    | ##################################### | 100% \npython_abi-3.6       | 4 KB      | ##################################### | 100% \nPreparing transaction: done\nVerifying transaction: done\nExecuting transaction: done\n"
                }
            ],
            "source": "import requests\nimport pandas as pd\nimport types\nimport pandas as pd\nfrom botocore.client import Config\nimport ibm_boto3\nimport matplotlib.cm as cm\nimport matplotlib.colors as colors\nfrom sklearn.preprocessing import StandardScaler\nfrom sklearn.cluster import KMeans\ntry:\n    import folium\nexcept:\n    !conda install -c conda-forge folium=0.5.0 --yes\n    import folium"
        },
        {
            "cell_type": "markdown",
            "metadata": {},
            "source": "#### Start by scraping Wikipedia page"
        },
        {
            "cell_type": "code",
            "execution_count": 2,
            "metadata": {},
            "outputs": [],
            "source": "tables = pd.read_html('https://en.wikipedia.org/wiki/List_of_United_States_cities_by_population', header=0)"
        },
        {
            "cell_type": "code",
            "execution_count": 81,
            "metadata": {},
            "outputs": [],
            "source": "df = tables[4]\n# Limit to top 100 cities\ndf = df[:100]"
        },
        {
            "cell_type": "markdown",
            "metadata": {},
            "source": "#### Parse the latitude and longitude values, and add as new df columns. Drop the Location column."
        },
        {
            "cell_type": "code",
            "execution_count": 85,
            "metadata": {},
            "outputs": [],
            "source": "latlon = df.Location.str.split('\\ufeff / \\ufeff')\nlatlon = [i[1].split(' ') for i in latlon]\nlat = [float(i[0][:-2]) for i in latlon]\nlon = [-float(i[1][:-2]) for i in latlon]"
        },
        {
            "cell_type": "code",
            "execution_count": 86,
            "metadata": {},
            "outputs": [
                {
                    "name": "stderr",
                    "output_type": "stream",
                    "text": "/opt/conda/envs/Python36/lib/python3.6/site-packages/ipykernel/__main__.py:1: SettingWithCopyWarning: \nA value is trying to be set on a copy of a slice from a DataFrame.\nTry using .loc[row_indexer,col_indexer] = value instead\n\nSee the caveats in the documentation: http://pandas.pydata.org/pandas-docs/stable/indexing.html#indexing-view-versus-copy\n  if __name__ == '__main__':\n/opt/conda/envs/Python36/lib/python3.6/site-packages/ipykernel/__main__.py:2: SettingWithCopyWarning: \nA value is trying to be set on a copy of a slice from a DataFrame.\nTry using .loc[row_indexer,col_indexer] = value instead\n\nSee the caveats in the documentation: http://pandas.pydata.org/pandas-docs/stable/indexing.html#indexing-view-versus-copy\n  from ipykernel import kernelapp as app\n"
                }
            ],
            "source": "df['Latitude'] = lat\ndf['Longitude'] = lon\ndf = df.drop(['Location'])"
        },
        {
            "cell_type": "code",
            "execution_count": 87,
            "metadata": {},
            "outputs": [
                {
                    "data": {
                        "text/html": "<div>\n<style scoped>\n    .dataframe tbody tr th:only-of-type {\n        vertical-align: middle;\n    }\n\n    .dataframe tbody tr th {\n        vertical-align: top;\n    }\n\n    .dataframe thead th {\n        text-align: right;\n    }\n</style>\n<table border=\"1\" class=\"dataframe\">\n  <thead>\n    <tr style=\"text-align: right;\">\n      <th></th>\n      <th>2019rank</th>\n      <th>City</th>\n      <th>State[c]</th>\n      <th>2019estimate</th>\n      <th>2010Census</th>\n      <th>Change</th>\n      <th>2016 land area</th>\n      <th>2016 land area.1</th>\n      <th>2016 population density</th>\n      <th>2016 population density.1</th>\n      <th>Location</th>\n      <th>Latitude</th>\n      <th>Longitude</th>\n    </tr>\n  </thead>\n  <tbody>\n    <tr>\n      <th>0</th>\n      <td>1</td>\n      <td>New York[d]</td>\n      <td>New York</td>\n      <td>8336817</td>\n      <td>8175133</td>\n      <td>+1.98%</td>\n      <td>301.5\u00a0sq\u00a0mi</td>\n      <td>780.9\u00a0km2</td>\n      <td>28,317/sq\u00a0mi</td>\n      <td>10,933/km2</td>\n      <td>40\u00b039\u203249\u2033N 73\u00b056\u203219\u2033W\ufeff / \ufeff40.6635\u00b0N 73.9387\u00b0W</td>\n      <td>40.6635</td>\n      <td>-73.9387</td>\n    </tr>\n    <tr>\n      <th>1</th>\n      <td>2</td>\n      <td>Los Angeles</td>\n      <td>California</td>\n      <td>3979576</td>\n      <td>3792621</td>\n      <td>+4.93%</td>\n      <td>468.7\u00a0sq\u00a0mi</td>\n      <td>1,213.9\u00a0km2</td>\n      <td>8,484/sq\u00a0mi</td>\n      <td>3,276/km2</td>\n      <td>34\u00b001\u203210\u2033N 118\u00b024\u203239\u2033W\ufeff / \ufeff34.0194\u00b0N 118.4108\u00b0W</td>\n      <td>34.0194</td>\n      <td>-118.4108</td>\n    </tr>\n    <tr>\n      <th>2</th>\n      <td>3</td>\n      <td>Chicago</td>\n      <td>Illinois</td>\n      <td>2693976</td>\n      <td>2695598</td>\n      <td>\u22120.06%</td>\n      <td>227.3\u00a0sq\u00a0mi</td>\n      <td>588.7\u00a0km2</td>\n      <td>11,900/sq\u00a0mi</td>\n      <td>4,600/km2</td>\n      <td>41\u00b050\u203215\u2033N 87\u00b040\u203254\u2033W\ufeff / \ufeff41.8376\u00b0N 87.6818\u00b0W</td>\n      <td>41.8376</td>\n      <td>-87.6818</td>\n    </tr>\n    <tr>\n      <th>3</th>\n      <td>4</td>\n      <td>Houston[3]</td>\n      <td>Texas</td>\n      <td>2320268</td>\n      <td>2100263</td>\n      <td>+10.48%</td>\n      <td>637.5\u00a0sq\u00a0mi</td>\n      <td>1,651.1\u00a0km2</td>\n      <td>3,613/sq\u00a0mi</td>\n      <td>1,395/km2</td>\n      <td>29\u00b047\u203212\u2033N 95\u00b023\u203227\u2033W\ufeff / \ufeff29.7866\u00b0N 95.3909\u00b0W</td>\n      <td>29.7866</td>\n      <td>-95.3909</td>\n    </tr>\n    <tr>\n      <th>4</th>\n      <td>5</td>\n      <td>Phoenix</td>\n      <td>Arizona</td>\n      <td>1680992</td>\n      <td>1445632</td>\n      <td>+16.28%</td>\n      <td>517.6\u00a0sq\u00a0mi</td>\n      <td>1,340.6\u00a0km2</td>\n      <td>3,120/sq\u00a0mi</td>\n      <td>1,200/km2</td>\n      <td>33\u00b034\u203220\u2033N 112\u00b005\u203224\u2033W\ufeff / \ufeff33.5722\u00b0N 112.0901\u00b0W</td>\n      <td>33.5722</td>\n      <td>-112.0901</td>\n    </tr>\n  </tbody>\n</table>\n</div>",
                        "text/plain": "   2019rank         City    State[c]  2019estimate  2010Census   Change  \\\n0         1  New York[d]    New York       8336817     8175133   +1.98%   \n1         2  Los Angeles  California       3979576     3792621   +4.93%   \n2         3      Chicago    Illinois       2693976     2695598   \u22120.06%   \n3         4   Houston[3]       Texas       2320268     2100263  +10.48%   \n4         5      Phoenix     Arizona       1680992     1445632  +16.28%   \n\n  2016 land area 2016 land area.1 2016 population density  \\\n0    301.5\u00a0sq\u00a0mi        780.9\u00a0km2            28,317/sq\u00a0mi   \n1    468.7\u00a0sq\u00a0mi      1,213.9\u00a0km2             8,484/sq\u00a0mi   \n2    227.3\u00a0sq\u00a0mi        588.7\u00a0km2            11,900/sq\u00a0mi   \n3    637.5\u00a0sq\u00a0mi      1,651.1\u00a0km2             3,613/sq\u00a0mi   \n4    517.6\u00a0sq\u00a0mi      1,340.6\u00a0km2             3,120/sq\u00a0mi   \n\n  2016 population density.1                                         Location  \\\n0                10,933/km2    40\u00b039\u203249\u2033N 73\u00b056\u203219\u2033W\ufeff / \ufeff40.6635\u00b0N 73.9387\u00b0W   \n1                 3,276/km2  34\u00b001\u203210\u2033N 118\u00b024\u203239\u2033W\ufeff / \ufeff34.0194\u00b0N 118.4108\u00b0W   \n2                 4,600/km2    41\u00b050\u203215\u2033N 87\u00b040\u203254\u2033W\ufeff / \ufeff41.8376\u00b0N 87.6818\u00b0W   \n3                 1,395/km2    29\u00b047\u203212\u2033N 95\u00b023\u203227\u2033W\ufeff / \ufeff29.7866\u00b0N 95.3909\u00b0W   \n4                 1,200/km2  33\u00b034\u203220\u2033N 112\u00b005\u203224\u2033W\ufeff / \ufeff33.5722\u00b0N 112.0901\u00b0W   \n\n   Latitude  Longitude  \n0   40.6635   -73.9387  \n1   34.0194  -118.4108  \n2   41.8376   -87.6818  \n3   29.7866   -95.3909  \n4   33.5722  -112.0901  "
                    },
                    "execution_count": 87,
                    "metadata": {},
                    "output_type": "execute_result"
                }
            ],
            "source": "df.head()"
        },
        {
            "cell_type": "code",
            "execution_count": 38,
            "metadata": {},
            "outputs": [
                {
                    "data": {
                        "text/plain": "'40\u00b039\u203249\u2033N 73\u00b056\u203219\u2033W'"
                    },
                    "execution_count": 38,
                    "metadata": {},
                    "output_type": "execute_result"
                }
            ],
            "source": "na"
        },
        {
            "cell_type": "code",
            "execution_count": null,
            "metadata": {},
            "outputs": [],
            "source": ""
        },
        {
            "cell_type": "code",
            "execution_count": null,
            "metadata": {},
            "outputs": [],
            "source": ""
        },
        {
            "cell_type": "code",
            "execution_count": null,
            "metadata": {},
            "outputs": [],
            "source": ""
        },
        {
            "cell_type": "code",
            "execution_count": null,
            "metadata": {},
            "outputs": [],
            "source": ""
        },
        {
            "cell_type": "code",
            "execution_count": null,
            "metadata": {},
            "outputs": [],
            "source": ""
        },
        {
            "cell_type": "markdown",
            "metadata": {},
            "source": "#### Limit to top 100"
        },
        {
            "cell_type": "code",
            "execution_count": null,
            "metadata": {},
            "outputs": [],
            "source": ""
        },
        {
            "cell_type": "markdown",
            "metadata": {},
            "source": "#### Map of top 100 cities"
        },
        {
            "cell_type": "code",
            "execution_count": null,
            "metadata": {},
            "outputs": [],
            "source": "#Looked these up from Google\nus_lat = 37.0902\nus_long = -95.7129\n\n# create map\nmap_us = folium.Map(location=[us_lat, us_long], zoom_start=5)\n\n# add markers to map\nfor lat, lng, label in zip(df['Latitude'], df['Longitude'], df['Postal Code']):\n    label = folium.Popup(label, parse_html=True)\n    folium.CircleMarker(\n        [lat, lng],\n        radius=5,\n        popup=label,\n        color='blue',\n        fill=True,\n        fill_color='#3186cc',\n        fill_opacity=0.7,\n        parse_html=False).add_to(map_us)  \n    \nmap_us"
        },
        {
            "cell_type": "markdown",
            "metadata": {},
            "source": "#### Foursquare parameters"
        },
        {
            "cell_type": "code",
            "execution_count": null,
            "metadata": {},
            "outputs": [],
            "source": "VERSION = '20200430' # Foursquare API version\nLIMIT = 100"
        },
        {
            "cell_type": "markdown",
            "metadata": {},
            "source": "#### Foursquare credentials (hidden)"
        },
        {
            "cell_type": "code",
            "execution_count": null,
            "metadata": {},
            "outputs": [],
            "source": "# The code was removed by Watson Studio for sharing."
        },
        {
            "cell_type": "markdown",
            "metadata": {},
            "source": "#### Create function to get nearby venues"
        },
        {
            "cell_type": "code",
            "execution_count": null,
            "metadata": {},
            "outputs": [],
            "source": "def getNearbyVenues(names, latitudes, longitudes, radius=500):\n    \n    venues_list=[]\n    for name, lat, lng in zip(names, latitudes, longitudes):\n        print(name)\n            \n        # create the API request URL\n        url = 'https://api.foursquare.com/v2/venues/explore?&client_id={}&client_secret={}&v={}&ll={},{}&radius={}&limit={}'.format(\n            CLIENT_ID, \n            CLIENT_SECRET, \n            VERSION, \n            lat, \n            lng, \n            radius, \n            LIMIT)\n            \n        # make the GET request\n        results = requests.get(url).json()[\"response\"]['groups'][0]['items']\n        \n        # return only relevant information for each nearby venue\n        venues_list.append([(\n            name, \n            lat, \n            lng, \n            v['venue']['name'], \n            v['venue']['location']['lat'], \n            v['venue']['location']['lng'],  \n            v['venue']['categories'][0]['name']) for v in results])\n\n    nearby_venues = pd.DataFrame([item for venue_list in venues_list for item in venue_list])\n    nearby_venues.columns = ['Neighborhood', \n                  'Neighborhood Latitude', \n                  'Neighborhood Longitude', \n                  'Venue', \n                  'Venue Latitude', \n                  'Venue Longitude', \n                  'Venue Category']\n    \n    return(nearby_venues)"
        },
        {
            "cell_type": "code",
            "execution_count": null,
            "metadata": {},
            "outputs": [],
            "source": "us_venues = getNearbyVenues(names=toronto_data['Neighborhood'],\n                                   latitudes=toronto_data['Latitude'],\n                                   longitudes=toronto_data['Longitude'])\nus_venues.head()"
        },
        {
            "cell_type": "code",
            "execution_count": null,
            "metadata": {},
            "outputs": [],
            "source": "us_venues.shape"
        },
        {
            "cell_type": "markdown",
            "metadata": {},
            "source": "#### Get all venue categories from Foursquare so groups can be combined"
        },
        {
            "cell_type": "code",
            "execution_count": null,
            "metadata": {},
            "outputs": [],
            "source": "url = 'https://api.foursquare.com/v2/venues/categories?&client_id={}&client_secret={}&v={}'.format(\n    CLIENT_ID, \n    CLIENT_SECRET,\n    VERSION)\ncategories = requests.get(url).json()['response']['categories']"
        },
        {
            "cell_type": "code",
            "execution_count": null,
            "metadata": {},
            "outputs": [],
            "source": ""
        }
    ],
    "metadata": {
        "kernelspec": {
            "display_name": "Python 3.6",
            "language": "python",
            "name": "python3"
        },
        "language_info": {
            "codemirror_mode": {
                "name": "ipython",
                "version": 3
            },
            "file_extension": ".py",
            "mimetype": "text/x-python",
            "name": "python",
            "nbconvert_exporter": "python",
            "pygments_lexer": "ipython3",
            "version": "3.6.9"
        }
    },
    "nbformat": 4,
    "nbformat_minor": 1
}